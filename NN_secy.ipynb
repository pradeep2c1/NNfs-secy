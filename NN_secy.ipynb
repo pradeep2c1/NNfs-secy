{
 "cells": [
  {
   "cell_type": "code",
   "execution_count": 99,
   "id": "fc0fb768-bd39-48eb-bbf5-88399c0dd59a",
   "metadata": {},
   "outputs": [],
   "source": [
    "import numpy as np\n",
    "import pandas as pd\n",
    "import matplotlib.pyplot as plt"
   ]
  },
  {
   "cell_type": "code",
   "execution_count": 100,
   "id": "b80e6b6e-5c00-4b24-afac-65e7eb866ac0",
   "metadata": {},
   "outputs": [],
   "source": [
    "x = np.vstack([(np.random.rand(10, 2)*5), (np.random.rand(10, 2)*10)])\n",
    "y = np.hstack([[0]*10, [1]*10])\n",
    "dataset = pd.DataFrame(x, columns = {\"x1\", \"x2\"})\n",
    "dataset[\"y\"] = y"
   ]
  },
  {
   "cell_type": "code",
   "execution_count": 101,
   "id": "29539ee8-e402-4157-8973-165d3e873cdb",
   "metadata": {},
   "outputs": [
    {
     "data": {
      "text/html": [
       "<div>\n",
       "<style scoped>\n",
       "    .dataframe tbody tr th:only-of-type {\n",
       "        vertical-align: middle;\n",
       "    }\n",
       "\n",
       "    .dataframe tbody tr th {\n",
       "        vertical-align: top;\n",
       "    }\n",
       "\n",
       "    .dataframe thead th {\n",
       "        text-align: right;\n",
       "    }\n",
       "</style>\n",
       "<table border=\"1\" class=\"dataframe\">\n",
       "  <thead>\n",
       "    <tr style=\"text-align: right;\">\n",
       "      <th></th>\n",
       "      <th>x2</th>\n",
       "      <th>x1</th>\n",
       "      <th>y</th>\n",
       "    </tr>\n",
       "  </thead>\n",
       "  <tbody>\n",
       "    <tr>\n",
       "      <th>0</th>\n",
       "      <td>4.038692</td>\n",
       "      <td>4.120449</td>\n",
       "      <td>0</td>\n",
       "    </tr>\n",
       "    <tr>\n",
       "      <th>1</th>\n",
       "      <td>2.867104</td>\n",
       "      <td>2.276306</td>\n",
       "      <td>0</td>\n",
       "    </tr>\n",
       "    <tr>\n",
       "      <th>2</th>\n",
       "      <td>1.303449</td>\n",
       "      <td>0.691488</td>\n",
       "      <td>0</td>\n",
       "    </tr>\n",
       "    <tr>\n",
       "      <th>3</th>\n",
       "      <td>2.007896</td>\n",
       "      <td>2.571572</td>\n",
       "      <td>0</td>\n",
       "    </tr>\n",
       "    <tr>\n",
       "      <th>4</th>\n",
       "      <td>0.295018</td>\n",
       "      <td>4.529315</td>\n",
       "      <td>0</td>\n",
       "    </tr>\n",
       "    <tr>\n",
       "      <th>5</th>\n",
       "      <td>3.712365</td>\n",
       "      <td>4.808473</td>\n",
       "      <td>0</td>\n",
       "    </tr>\n",
       "    <tr>\n",
       "      <th>6</th>\n",
       "      <td>4.226996</td>\n",
       "      <td>4.153825</td>\n",
       "      <td>0</td>\n",
       "    </tr>\n",
       "    <tr>\n",
       "      <th>7</th>\n",
       "      <td>3.357428</td>\n",
       "      <td>3.253804</td>\n",
       "      <td>0</td>\n",
       "    </tr>\n",
       "    <tr>\n",
       "      <th>8</th>\n",
       "      <td>0.906286</td>\n",
       "      <td>4.784601</td>\n",
       "      <td>0</td>\n",
       "    </tr>\n",
       "    <tr>\n",
       "      <th>9</th>\n",
       "      <td>0.545495</td>\n",
       "      <td>1.785725</td>\n",
       "      <td>0</td>\n",
       "    </tr>\n",
       "    <tr>\n",
       "      <th>10</th>\n",
       "      <td>7.113132</td>\n",
       "      <td>0.736816</td>\n",
       "      <td>1</td>\n",
       "    </tr>\n",
       "    <tr>\n",
       "      <th>11</th>\n",
       "      <td>9.943992</td>\n",
       "      <td>5.557991</td>\n",
       "      <td>1</td>\n",
       "    </tr>\n",
       "    <tr>\n",
       "      <th>12</th>\n",
       "      <td>5.836452</td>\n",
       "      <td>0.384920</td>\n",
       "      <td>1</td>\n",
       "    </tr>\n",
       "    <tr>\n",
       "      <th>13</th>\n",
       "      <td>0.059830</td>\n",
       "      <td>9.826756</td>\n",
       "      <td>1</td>\n",
       "    </tr>\n",
       "    <tr>\n",
       "      <th>14</th>\n",
       "      <td>1.208381</td>\n",
       "      <td>4.240285</td>\n",
       "      <td>1</td>\n",
       "    </tr>\n",
       "    <tr>\n",
       "      <th>15</th>\n",
       "      <td>4.875869</td>\n",
       "      <td>2.864399</td>\n",
       "      <td>1</td>\n",
       "    </tr>\n",
       "    <tr>\n",
       "      <th>16</th>\n",
       "      <td>6.917074</td>\n",
       "      <td>2.325527</td>\n",
       "      <td>1</td>\n",
       "    </tr>\n",
       "    <tr>\n",
       "      <th>17</th>\n",
       "      <td>6.742060</td>\n",
       "      <td>0.556420</td>\n",
       "      <td>1</td>\n",
       "    </tr>\n",
       "    <tr>\n",
       "      <th>18</th>\n",
       "      <td>5.397293</td>\n",
       "      <td>8.036223</td>\n",
       "      <td>1</td>\n",
       "    </tr>\n",
       "    <tr>\n",
       "      <th>19</th>\n",
       "      <td>7.227084</td>\n",
       "      <td>0.724651</td>\n",
       "      <td>1</td>\n",
       "    </tr>\n",
       "  </tbody>\n",
       "</table>\n",
       "</div>"
      ],
      "text/plain": [
       "          x2        x1  y\n",
       "0   4.038692  4.120449  0\n",
       "1   2.867104  2.276306  0\n",
       "2   1.303449  0.691488  0\n",
       "3   2.007896  2.571572  0\n",
       "4   0.295018  4.529315  0\n",
       "5   3.712365  4.808473  0\n",
       "6   4.226996  4.153825  0\n",
       "7   3.357428  3.253804  0\n",
       "8   0.906286  4.784601  0\n",
       "9   0.545495  1.785725  0\n",
       "10  7.113132  0.736816  1\n",
       "11  9.943992  5.557991  1\n",
       "12  5.836452  0.384920  1\n",
       "13  0.059830  9.826756  1\n",
       "14  1.208381  4.240285  1\n",
       "15  4.875869  2.864399  1\n",
       "16  6.917074  2.325527  1\n",
       "17  6.742060  0.556420  1\n",
       "18  5.397293  8.036223  1\n",
       "19  7.227084  0.724651  1"
      ]
     },
     "execution_count": 101,
     "metadata": {},
     "output_type": "execute_result"
    }
   ],
   "source": [
    "dataset"
   ]
  },
  {
   "cell_type": "code",
   "execution_count": 102,
   "id": "003fec31-fd5b-4065-a3e1-fa8a652eeb99",
   "metadata": {},
   "outputs": [
    {
     "data": {
      "text/plain": [
       "<matplotlib.legend.Legend at 0x20c73a28f40>"
      ]
     },
     "execution_count": 102,
     "metadata": {},
     "output_type": "execute_result"
    },
    {
     "data": {
      "image/png": "[encoded data removed]",
      "text/plain": [
       "<Figure size 432x288 with 1 Axes>"
      ]
     },
     "metadata": {
      "needs_background": "light"
     },
     "output_type": "display_data"
    }
   ],
   "source": [
    "plt.plot(dataset,label = 'Inline label')\n",
    "plt.legend([\"x1\",\"x2\",\"y\"])"
   ]
  },
  {
   "cell_type": "code",
   "execution_count": 103,
   "id": "861d9a5a-918b-4aee-8c17-9ac11970f071",
   "metadata": {},
   "outputs": [],
   "source": [
    "z = np.zeros((20, 2))\n",
    "for i in range(20):\n",
    "    z[i, y[i]] = 1"
   ]
  },
  {
   "cell_type": "code",
   "execution_count": 104,
   "id": "f32e052a-6fd6-450e-8084-f30345054012",
   "metadata": {},
   "outputs": [
    {
     "data": {
      "text/plain": [
       "(20, 2)"
      ]
     },
     "execution_count": 104,
     "metadata": {},
     "output_type": "execute_result"
    }
   ],
   "source": [
    "x.shape"
   ]
  },
  {
   "cell_type": "code",
   "execution_count": 105,
   "id": "fa69adb1-6db9-4fc2-907a-8b8ad0c1fda8",
   "metadata": {},
   "outputs": [],
   "source": [
    "w1 = np.random.randn(3, 2)\n",
    "b1 = np.random.randn(3)\n",
    "w2 = np.random.randn(3, 2)\n",
    "b2 = np.random.randn(2)"
   ]
  },
  {
   "cell_type": "code",
   "execution_count": 106,
   "id": "2b6b8c65-e94b-478a-be1b-1fc2156ee19d",
   "metadata": {},
   "outputs": [
    {
     "data": {
      "text/plain": [
       "array([[-1.08477942, -0.034715  ],\n",
       "       [ 1.26990038,  1.71604219],\n",
       "       [ 0.83511329,  0.45366733]])"
      ]
     },
     "execution_count": 106,
     "metadata": {},
     "output_type": "execute_result"
    }
   ],
   "source": [
    "w1"
   ]
  },
  {
   "cell_type": "code",
   "execution_count": 107,
   "id": "7cffbc18-0df9-4103-9afe-dcf33bc9ab5c",
   "metadata": {},
   "outputs": [
    {
     "data": {
      "text/plain": [
       "array([[-1.08477942,  1.26990038,  0.83511329],\n",
       "       [-0.034715  ,  1.71604219,  0.45366733]])"
      ]
     },
     "execution_count": 107,
     "metadata": {},
     "output_type": "execute_result"
    }
   ],
   "source": [
    "w1.T"
   ]
  },
  {
   "cell_type": "code",
   "execution_count": 108,
   "id": "448ca9f9-e28f-44fa-a0f7-1c096e82f15a",
   "metadata": {},
   "outputs": [
    {
     "data": {
      "text/plain": [
       "array([ 0.91366519, -0.75116343,  1.25185882])"
      ]
     },
     "execution_count": 108,
     "metadata": {},
     "output_type": "execute_result"
    }
   ],
   "source": [
    "b1"
   ]
  },
  {
   "cell_type": "code",
   "execution_count": 109,
   "id": "fe5d3fea-cfd0-4606-970c-196c264bfff0",
   "metadata": {},
   "outputs": [
    {
     "data": {
      "text/plain": [
       "array([[ 0.27252191,  0.7098184 ],\n",
       "       [-1.03863938,  0.02637168],\n",
       "       [ 0.36417071,  0.38061077]])"
      ]
     },
     "execution_count": 109,
     "metadata": {},
     "output_type": "execute_result"
    }
   ],
   "source": [
    "w2"
   ]
  },
  {
   "cell_type": "code",
   "execution_count": 110,
   "id": "17262286-1d1e-44ad-9aad-9469f69e51d2",
   "metadata": {},
   "outputs": [
    {
     "data": {
      "text/plain": [
       "array([[ 0.27252191, -1.03863938,  0.36417071],\n",
       "       [ 0.7098184 ,  0.02637168,  0.38061077]])"
      ]
     },
     "execution_count": 110,
     "metadata": {},
     "output_type": "execute_result"
    }
   ],
   "source": [
    "w2.T"
   ]
  },
  {
   "cell_type": "code",
   "execution_count": 111,
   "id": "95e7a8e8-eea2-4da3-8ca1-c9d0ebe5b39c",
   "metadata": {},
   "outputs": [
    {
     "data": {
      "text/plain": [
       "array([-0.63316518, -0.02302966])"
      ]
     },
     "execution_count": 111,
     "metadata": {},
     "output_type": "execute_result"
    }
   ],
   "source": [
    "b2"
   ]
  },
  {
   "cell_type": "code",
   "execution_count": 112,
   "id": "bbff2fce-7721-4938-91c5-14e4e8112b85",
   "metadata": {},
   "outputs": [
    {
     "data": {
      "text/plain": [
       "array([[4.03869178, 4.12044897],\n",
       "       [2.86710438, 2.27630555],\n",
       "       [1.30344936, 0.69148783],\n",
       "       [2.00789619, 2.57157163],\n",
       "       [0.29501764, 4.5293153 ],\n",
       "       [3.71236541, 4.80847293],\n",
       "       [4.2269963 , 4.15382501],\n",
       "       [3.35742835, 3.25380382],\n",
       "       [0.90628596, 4.78460135],\n",
       "       [0.54549528, 1.7857251 ],\n",
       "       [7.11313228, 0.73681584],\n",
       "       [9.9439919 , 5.55799087],\n",
       "       [5.83645233, 0.38492039],\n",
       "       [0.05982964, 9.82675562],\n",
       "       [1.20838076, 4.2402849 ],\n",
       "       [4.87586917, 2.8643992 ],\n",
       "       [6.91707434, 2.32552732],\n",
       "       [6.74206029, 0.55641964],\n",
       "       [5.39729255, 8.03622298],\n",
       "       [7.22708392, 0.72465144]])"
      ]
     },
     "execution_count": 112,
     "metadata": {},
     "output_type": "execute_result"
    }
   ],
   "source": [
    "x"
   ]
  },
  {
   "cell_type": "code",
   "execution_count": 113,
   "id": "c8c326bf-17b8-4d1f-b70a-2d34bf3b11cc",
   "metadata": {},
   "outputs": [
    {
     "data": {
      "text/plain": [
       "(20, 2)"
      ]
     },
     "execution_count": 113,
     "metadata": {},
     "output_type": "execute_result"
    }
   ],
   "source": [
    "x.shape"
   ]
  },
  {
   "cell_type": "code",
   "execution_count": 114,
   "id": "235b9b56-304c-4370-a9d6-f9314104f48d",
   "metadata": {},
   "outputs": [
    {
     "data": {
      "text/plain": [
       "array([[ -4.52413111,  12.19960047,   5.24207826],\n",
       "       [ -3.18919778,   7.5471733 ,   3.42704244],\n",
       "       [ -1.43796004,   2.84187313,   1.40223332],\n",
       "       [ -2.26739658,   6.96275354,   2.84345883],\n",
       "       [ -0.47726426,   8.14713916,   2.30117554],\n",
       "       [ -4.19402373,  12.96587664,   5.28169276],\n",
       "       [ -4.72955863,  12.49600316,   5.41447549],\n",
       "       [ -3.75502497,   9.84726415,   4.27997752],\n",
       "       [ -1.1492178 ,   9.36147065,   2.92746877],\n",
       "       [ -0.6537335 ,   3.75710427,   1.2656755 ],\n",
       "       [ -7.74175805,  10.29737642,   6.27454055],\n",
       "       [-10.97998341,  22.16562589,  10.82583866],\n",
       "       [ -6.34462586,   8.07225264,   5.0487247 ],\n",
       "       [ -0.40603782,  16.93910491,   4.50804253],\n",
       "       [ -1.45802808,   8.81103097,   2.93281357],\n",
       "       [ -5.38868014,  11.10729797,   5.37138748],\n",
       "       [ -7.58423056,  12.77469831,   6.83155647],\n",
       "       [ -7.33296433,   9.51658448,   5.88281354],\n",
       "       [ -6.13384937,  20.64452152,   8.15312257],\n",
       "       [ -7.86494815,  10.42120903,   6.36418449]])"
      ]
     },
     "execution_count": 114,
     "metadata": {},
     "output_type": "execute_result"
    }
   ],
   "source": [
    "x.dot(w1.T)"
   ]
  },
  {
   "cell_type": "code",
   "execution_count": 115,
   "id": "2422b08d-ef28-423d-8575-aace5bbf91c5",
   "metadata": {},
   "outputs": [],
   "source": [
    "def forward_prop(x, w1, b1, w2, b2):\n",
    "    M = 1 / (1 + np.exp(-(x.dot(w1.T) + b1)))\n",
    "    A = M.dot(w2) + b2\n",
    "    expA = np.exp(A)\n",
    "    Y = expA / expA.sum(axis = 1, keepdims = True)\n",
    "    return Y, M"
   ]
  },
  {
   "cell_type": "code",
   "execution_count": 116,
   "id": "1aa6cea0",
   "metadata": {},
   "outputs": [
    {
     "data": {
      "text/plain": [
       "(array([[0.1540656 , 0.8459344 ],\n",
       "        [0.15046118, 0.84953882],\n",
       "        [0.14982688, 0.85017312],\n",
       "        [0.14443344, 0.85556656],\n",
       "        [0.12389081, 0.87610919],\n",
       "        [0.15349995, 0.84650005],\n",
       "        [0.15433754, 0.84566246],\n",
       "        [0.15245035, 0.84754965],\n",
       "        [0.1319118 , 0.8680882 ],\n",
       "        [0.13158214, 0.86841786],\n",
       "        [0.15551632, 0.84448368],\n",
       "        [0.15556487, 0.84443513],\n",
       "        [0.15541334, 0.84458666],\n",
       "        [0.12297901, 0.87702099],\n",
       "        [0.13568899, 0.86431101],\n",
       "        [0.15492874, 0.84507126],\n",
       "        [0.15549608, 0.84450392],\n",
       "        [0.15549738, 0.84450262],\n",
       "        [0.15525882, 0.84474118],\n",
       "        [0.15552225, 0.84447775]]),\n",
       " array([[2.63273735e-02, 9.99989334e-01, 9.98489702e-01],\n",
       "        [9.31697155e-02, 9.98883021e-01, 9.90796281e-01],\n",
       "        [3.71848503e-01, 8.89996926e-01, 9.34262760e-01],\n",
       "        [2.05261004e-01, 9.97997971e-01, 9.83622241e-01],\n",
       "        [6.07401110e-01, 9.99386659e-01, 9.72159670e-01],\n",
       "        [3.62511878e-02, 9.99995043e-01, 9.98548277e-01],\n",
       "        [2.15436842e-02, 9.99992070e-01, 9.98728562e-01],\n",
       "        [5.51296633e-02, 9.99887910e-01, 9.96056897e-01],\n",
       "        [4.41382628e-01, 9.99817815e-01, 9.84922028e-01],\n",
       "        [5.64619498e-01, 9.52841793e-01, 9.25361935e-01],\n",
       "        [1.08174998e-03, 9.99928534e-01, 9.99461616e-01],\n",
       "        [4.24849482e-05, 9.99999999e-01, 9.99994315e-01],\n",
       "        [4.35979603e-03, 9.99338996e-01, 9.98168128e-01],\n",
       "        [6.24250111e-01, 9.99999907e-01, 9.96858478e-01],\n",
       "        [3.67173248e-01, 9.99684131e-01, 9.85001196e-01],\n",
       "        [1.12617796e-02, 9.99968204e-01, 9.98672655e-01],\n",
       "        [1.26607686e-03, 9.99993999e-01, 9.99691480e-01],\n",
       "        [1.62714617e-03, 9.99843988e-01, 9.99203648e-01],\n",
       "        [5.37726202e-03, 9.99999998e-01, 9.99917694e-01],\n",
       "        [9.56490297e-04, 9.99936857e-01, 9.99507756e-01]]))"
      ]
     },
     "execution_count": 116,
     "metadata": {},
     "output_type": "execute_result"
    }
   ],
   "source": [
    "forward_prop(x, w1, b1, w2, b2)"
   ]
  },
  {
   "cell_type": "code",
   "execution_count": 117,
   "id": "75c7ce36",
   "metadata": {},
   "outputs": [],
   "source": [
    "def diff_w2(H, z, y):\n",
    "    return H.T.dot(z - y)"
   ]
  },
  {
   "cell_type": "code",
   "execution_count": 118,
   "id": "07eb4c02",
   "metadata": {},
   "outputs": [],
   "source": [
    "def diff_w1(x, H, z, output, w2):\n",
    "    dz = (z - output).dot(w2.T) * H * (1 - H)\n",
    "    return x.T.dot(dz)"
   ]
  },
  {
   "cell_type": "code",
   "execution_count": 119,
   "id": "f3237b27",
   "metadata": {},
   "outputs": [],
   "source": [
    "def diff_B2(z, y):\n",
    "    return (z - y).sum(axis=0)\n",
    "\n",
    "def diff_B1(z, y, w2, H):\n",
    "    return ((z - y).dot(w2.T) * H * (1 - H)).sum(axis=0)"
   ]
  },
  {
   "cell_type": "code",
   "execution_count": 120,
   "id": "2f7e8c77",
   "metadata": {},
   "outputs": [],
   "source": [
    "learning_rate = 1e-3\n",
    "for epoch in range(5000):\n",
    "    output, hidden = forward_prop(x, w1, b1, w2, b2)\n",
    "    w2 += learning_rate * diff_w2(hidden, z, output)\n",
    "    b2 += learning_rate * diff_B2(z, output)\n",
    "    w1 += learning_rate * diff_w1(x, hidden, z, output, w2).T\n",
    "    b1 += learning_rate * diff_B1(z, output, w2, hidden)"
   ]
  },
  {
   "cell_type": "code",
   "execution_count": 121,
   "id": "8153d148",
   "metadata": {},
   "outputs": [
    {
     "name": "stdout",
     "output_type": "stream",
     "text": [
      " prob of class 0>>>>>>  0.7194959488190777 \n",
      " prob of class 1 >>>>> 0.2805040511809223\n"
     ]
    }
   ],
   "source": [
    "X_test = np.array([5,5])\n",
    "\n",
    "hidden_output = 1 / (1 + np.exp(-X_test.dot(w1.T) - b1))\n",
    "Outer_layer_output = hidden_output.dot(w2) + b2\n",
    "expA = np.exp(Outer_layer_output)\n",
    "Y = expA / expA.sum()\n",
    "print(\" prob of class 0>>>>>>  {} \\n prob of class 1 >>>>> {}\".format(Y[0],Y[1]))"
   ]
  },
  {
   "cell_type": "code",
   "execution_count": null,
   "id": "1d98e959",
   "metadata": {},
   "outputs": [],
   "source": []
  }
 ],
 "metadata": {
  "kernelspec": {
   "display_name": "Python 3 (ipykernel)",
   "language": "python",
   "name": "python3"
  },
  "language_info": {
   "codemirror_mode": {
    "name": "ipython",
    "version": 3
   },
   "file_extension": ".py",
   "mimetype": "text/x-python",
   "name": "python",
   "nbconvert_exporter": "python",
   "pygments_lexer": "ipython3",
   "version": "3.9.12"
  }
 },
 "nbformat": 4,
 "nbformat_minor": 5
}
